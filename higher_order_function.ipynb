{
 "cells": [
  {
   "cell_type": "markdown",
   "source": [
    "# Coding Meetup - Higher Order Functions Series\n",
    "\n",
    "-------------\n",
    "\n",
    "## Task 1 - Count the number of JavaScript developers coming from Europe\n",
    "\n",
    "You will be given an array of objects representing data about developers who have signed up to attend the coding meetup that you are organising for the first time.\n",
    "\n",
    "Your task is to return the number of JavaScript developers coming from Europe.\n",
    "\n",
    "For example, given the following list:\n",
    "\n",
    "```\n",
    "var list1 = [\n",
    "    { firstName: 'Noah', lastName: 'M.', country: 'Switzerland', continent: 'Europe', age: 19, language: 'JavaScript' },\n",
    "    { firstName: 'Maia', lastName: 'S.', country: 'Tahiti', continent: 'Oceania', age: 28, language: 'JavaScript' },\n",
    "    { firstName: 'Shufen', lastName: 'L.', country: 'Taiwan', continent: 'Asia', age: 35, language: 'HTML' },\n",
    "    { firstName: 'Sumayah', lastName: 'M.', country: 'Tajikistan', continent: 'Asia', age: 30, language: 'CSS' }\n",
    "];\n",
    "```\n",
    "\n",
    "Your function should return number `1`.\n",
    "\n",
    "If, there are no JavaScript developers from Europe then your function should return 0.\n",
    "\n",
    "Notes:\n",
    "\n",
    "- The format of the strings will always be Europe and JavaScript.\n",
    "- All data will always be valid and uniform as in the example above.\n"
   ],
   "metadata": {
    "collapsed": false
   }
  },
  {
   "cell_type": "code",
   "execution_count": 15,
   "outputs": [],
   "source": [
    "def count_developers(lst) -> None:\n",
    "    return None"
   ],
   "metadata": {
    "collapsed": false,
    "ExecuteTime": {
     "start_time": "2023-04-06T22:26:54.664515Z",
     "end_time": "2023-04-06T22:26:54.710305Z"
    }
   }
  },
  {
   "cell_type": "markdown",
   "source": [
    "-------------"
   ],
   "metadata": {
    "collapsed": false
   }
  },
  {
   "cell_type": "markdown",
   "source": [
    "## Task 2 - Greet developers\n",
    "\n",
    "You will be given an array of objects (associative arrays in PHP, tables in COBOL) representing data about developers who have signed up to attend the next coding meetup that you are organising.\n",
    "\n",
    "Your task is to return an array where each object will have a new property 'greeting' with the following string value:\n",
    "\n",
    "```\n",
    "Hi < firstName here >, what do you like the most about < language here >?\n",
    "```\n",
    "\n",
    "For example, given the following input array:\n",
    "\n",
    "```\n",
    "list1 = [\n",
    "    { 'firstName': 'Sofia', 'lastName': 'I.', 'country': 'Argentina', 'continent': 'Americas', 'age': 35, 'language': 'Java' },\n",
    "    { 'firstName': 'Lukas', 'lastName': 'X.', 'country': 'Croatia', 'continent': 'Europe', 'age': 35, 'language': 'Python' },\n",
    "    { 'firstName': 'Madison', 'lastName': 'U.', 'country': 'United States', 'continent': 'Americas', 'age': 32, 'language': 'Ruby' }\n",
    "]\n",
    "```\n",
    "\n",
    "Your function should return the following array:\n",
    "\n",
    "```\n",
    "[\n",
    "    { 'firstName': 'Sofia', 'lastName': 'I.', 'country': 'Argentina', 'continent': 'Americas', 'age': 35, 'language': 'Java',\n",
    "      'greeting': 'Hi Sofia, what do you like the most about Java?'\n",
    "    },\n",
    "    { 'firstName': 'Lukas', 'lastName': 'X.', 'country': 'Croatia', 'continent': 'Europe', 'age': 35, 'language': 'Python',\n",
    "      'greeting': 'Hi Lukas, what do you like the most about Python?'\n",
    "    },\n",
    "    { 'firstName': 'Madison', 'lastName': 'U.', 'country': 'United States', 'continent': 'Americas', 'age': 32, 'language': 'Ruby',\n",
    "      'greeting': 'Hi Madison, what do you like the most about Ruby?'\n",
    "    }\n",
    "]\n",
    "```\n",
    "\n",
    "Notes:\n",
    "\n",
    "- The order of the properties in the objects does not matter (except in COBOL).\n",
    "- The input array will always be valid and formatted as in the example above.\n"
   ],
   "metadata": {
    "collapsed": false
   }
  },
  {
   "cell_type": "code",
   "execution_count": 16,
   "outputs": [],
   "source": [
    "def greet_developers(lst) -> None:\n",
    "    return None"
   ],
   "metadata": {
    "collapsed": false,
    "ExecuteTime": {
     "start_time": "2023-04-06T22:26:54.672227Z",
     "end_time": "2023-04-06T22:26:54.710784Z"
    }
   }
  },
  {
   "cell_type": "markdown",
   "source": [
    "-------------"
   ],
   "metadata": {
    "collapsed": false
   }
  },
  {
   "cell_type": "markdown",
   "source": [
    "## Task 3 - Is Ruby coming ?\n",
    "\n",
    "You will be given an array of objects (associative arrays in PHP) representing data about developers who have signed up to attend the next coding meetup that you are organising.\n",
    "\n",
    "Your task is to return:\n",
    "\n",
    "- `true` if at least one Ruby developer has signed up; or\n",
    "- `false` if there will be no Ruby developers.\n",
    "\n",
    "For example, given the following input array:\n",
    "\n",
    "```\n",
    "list1 = [\n",
    "    { 'firstName': 'Sofia', 'lastName': 'I.', 'country': 'Argentina', 'continent': 'Americas', 'age': 35, 'language': 'Java' },\n",
    "    { 'firstName': 'Lukas', 'lastName': 'X.', 'country': 'Croatia', 'continent': 'Europe', 'age': 35, 'language': 'Python' },\n",
    "    { 'firstName': 'Madison', 'lastName': 'U.', 'country': 'United States', 'continent': 'Americas', 'age': 32, 'language': 'Ruby' }\n",
    "]\n",
    "```\n",
    "\n",
    "Your function should return `true`.\n",
    "\n",
    "Notes:\n",
    "\n",
    "- The input array will always be valid and formatted as in the example above.\n"
   ],
   "metadata": {
    "collapsed": false
   }
  },
  {
   "cell_type": "code",
   "execution_count": 17,
   "outputs": [],
   "source": [
    "def is_ruby_coming(lst) -> None:\n",
    "    return None"
   ],
   "metadata": {
    "collapsed": false,
    "ExecuteTime": {
     "start_time": "2023-04-06T22:26:54.679706Z",
     "end_time": "2023-04-06T22:26:54.737163Z"
    }
   }
  },
  {
   "cell_type": "markdown",
   "source": [
    "-------------"
   ],
   "metadata": {
    "collapsed": false
   }
  },
  {
   "cell_type": "markdown",
   "source": [
    "## Task 4 - Find the first Python developer\n",
    "\n",
    "You will be given an array of objects (associative arrays in PHP) representing data about developers who have signed up to attend the next coding meetup that you are organising. The list is ordered according to who signed up first.\n",
    "\n",
    "Your task is to return one of the following strings:\n",
    "\n",
    "- `< firstName here >, < country here >` of the first Python developer who has signed up; or\n",
    "- There will be no Python developers if no Python developer has signed up.\n",
    "\n",
    "For example, given the following input array:\n",
    "\n",
    "```\n",
    "list1 = [\n",
    "    { \"first_name\": \"Mark\", \"last_name\": \"G.\", \"country\": \"Scotland\", \"continent\": \"Europe\", \"age\": 22, \"language\": \"JavaScript\" },\n",
    "    { \"first_name\": \"Victoria\", \"last_name\": \"T.\", \"country\": \"Puerto Rico\", \"continent\": \"Americas\", \"age\": 30, \"language\": \"Python\" },\n",
    "    { \"first_name\": \"Emma\", \"last_name\": \"B.\", \"country\": \"Norway\", \"continent\": \"Europe\", \"age\": 19, \"language\": \"Clojure\" }\n",
    "]\n",
    "```\n",
    "\n",
    "Your function should return `Victoria, Puerto Rico`.\n",
    "\n",
    "Notes:\n",
    "\n",
    "- The input array will always be valid and formatted as in the example above."
   ],
   "metadata": {
    "collapsed": false
   }
  },
  {
   "cell_type": "code",
   "execution_count": 18,
   "outputs": [],
   "source": [
    "def get_first_python(users) -> None:\n",
    "    return None"
   ],
   "metadata": {
    "collapsed": false,
    "ExecuteTime": {
     "start_time": "2023-04-06T22:26:54.686290Z",
     "end_time": "2023-04-06T22:26:54.737882Z"
    }
   }
  },
  {
   "cell_type": "markdown",
   "source": [
    "-------------"
   ],
   "metadata": {
    "collapsed": false
   }
  },
  {
   "cell_type": "markdown",
   "source": [
    "## Task 5 - Prepare the count of languages\n",
    "\n",
    "You will be given an array of objects (associative arrays in PHP, table in COBOL) representing data about developers who have signed up to attend the next coding meetup that you are organising.\n",
    "\n",
    "Your task is to return an object (associative array in PHP, table in COBOL) which includes the count of each coding language represented at the meetup.\n",
    "\n",
    "For example, given the following input array:\n",
    "\n",
    "```\n",
    "list1 = [\n",
    "    { 'firstName': 'Noah', 'lastName': 'M.', 'country': 'Switzerland', 'continent': 'Europe', 'age': 19, 'language': 'C' },\n",
    "    { 'firstName': 'Anna', 'lastName': 'R.', 'country': 'Liechtenstein', 'continent': 'Europe', 'age': 52, 'language': 'JavaScript' },\n",
    "    { 'firstName': 'Ramon', 'lastName': 'R.', 'country': 'Paraguay', 'continent': 'Americas', 'age': 29, 'language': 'Ruby' },\n",
    "    { 'firstName': 'George', 'lastName': 'B.', 'country': 'England', 'continent': 'Europe', 'age': 81, 'language': 'C' },\n",
    "    ]\n",
    "```\n",
    "Your function should return the following object (associative array in PHP, table in COBOL):\n",
    "\n",
    "```\n",
    "{ 'C': 2, 'JavaScript': 1, 'Ruby': 1 }\n",
    "```\n",
    "\n",
    "Notes:\n",
    "\n",
    "- The order of the languages in the object does not matter.\n",
    "- The count value should be a valid number.\n",
    "- The input array will always be valid and formatted as in the example above."
   ],
   "metadata": {
    "collapsed": false
   }
  },
  {
   "cell_type": "code",
   "execution_count": 19,
   "outputs": [],
   "source": [
    "def count_languages(lst) -> None:\n",
    "    return None"
   ],
   "metadata": {
    "collapsed": false,
    "ExecuteTime": {
     "start_time": "2023-04-06T22:26:54.693307Z",
     "end_time": "2023-04-06T22:26:54.738072Z"
    }
   }
  },
  {
   "cell_type": "markdown",
   "source": [
    "-------------"
   ],
   "metadata": {
    "collapsed": false
   }
  },
  {
   "cell_type": "markdown",
   "source": [
    "## Task 6 - Can they code in the same language ?\n",
    "\n",
    "You will be given an array of objects (associative arrays in PHP, tables in COBOL) representing data about developers who have signed up to attend the next coding meetup that you are organising.\n",
    "\n",
    "Your task is to return either:\n",
    "\n",
    "- `true` if all developers in the list code in the same language; or\n",
    "- `false` otherwise.\n",
    "\n",
    "For example, given the following input array:\n",
    "\n",
    "```\n",
    "list1 = [\n",
    "    { 'firstName': 'Daniel', 'lastName': 'J.', 'country': 'Aruba', 'continent': 'Americas', 'age': 42, 'language': 'JavaScript' },\n",
    "    { 'firstName': 'Kseniya', 'lastName': 'T.', 'country': 'Belarus', 'continent': 'Europe', 'age': 22, 'language': 'JavaScript' },\n",
    "    { 'firstName': 'Hanna', 'lastName': 'L.', 'country': 'Hungary', 'continent': 'Europe', 'age': 65, 'language': 'JavaScript' },\n",
    "]\n",
    "```\n",
    "\n",
    "Your function should return true.\n",
    "\n",
    "Notes:\n",
    "\n",
    "- The strings representing a given language will always be formatted in the same way (e.g. 'JavaScript' will always be formatted will upper-case 'J' and 'S'\n",
    "- The input array will always be valid and formatted as in the example above."
   ],
   "metadata": {
    "collapsed": false
   }
  },
  {
   "cell_type": "code",
   "execution_count": 20,
   "outputs": [],
   "source": [
    "def is_same_language(lst) -> None:\n",
    "    return None"
   ],
   "metadata": {
    "collapsed": false,
    "ExecuteTime": {
     "start_time": "2023-04-06T22:26:54.699113Z",
     "end_time": "2023-04-06T22:26:54.738436Z"
    }
   }
  },
  {
   "cell_type": "markdown",
   "source": [
    "-------------"
   ],
   "metadata": {
    "collapsed": false
   }
  },
  {
   "cell_type": "markdown",
   "source": [
    "## More tasks to add..."
   ],
   "metadata": {
    "collapsed": false
   }
  },
  {
   "cell_type": "code",
   "execution_count": 20,
   "outputs": [],
   "source": [],
   "metadata": {
    "collapsed": false,
    "ExecuteTime": {
     "start_time": "2023-04-06T22:26:54.707188Z",
     "end_time": "2023-04-06T22:26:54.738705Z"
    }
   }
  },
  {
   "cell_type": "markdown",
   "source": [
    "-------------"
   ],
   "metadata": {
    "collapsed": false
   }
  }
 ],
 "metadata": {
  "kernelspec": {
   "display_name": "Python 3",
   "language": "python",
   "name": "python3"
  },
  "language_info": {
   "codemirror_mode": {
    "name": "ipython",
    "version": 2
   },
   "file_extension": ".py",
   "mimetype": "text/x-python",
   "name": "python",
   "nbconvert_exporter": "python",
   "pygments_lexer": "ipython2",
   "version": "2.7.6"
  }
 },
 "nbformat": 4,
 "nbformat_minor": 0
}
