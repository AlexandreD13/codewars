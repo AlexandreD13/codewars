{
 "cells": [
  {
   "cell_type": "markdown",
   "source": [
    "# Coding Meetup - Higher Order Functions Series\n",
    "\n",
    "-------------\n",
    "\n",
    "## Task 1 - Count the number of JavaScript developers coming from Europe\n",
    "\n",
    "You will be given an array of objects representing data about developers who have signed up to attend the coding meetup that you are organising for the first time.\n",
    "\n",
    "Your task is to return the number of JavaScript developers coming from Europe.\n",
    "\n",
    "For example, given the following list:\n",
    "\n",
    "```\n",
    "var list1 = [\n",
    "    {\n",
    "        \"firstName\": \"Noah\",\n",
    "        \"lastName\": \"M.\",\n",
    "        \"country\": \"Switzerland\",\n",
    "        \"continent\": \"Europe\",\n",
    "        \"age\": 19,\n",
    "        \"language\": \"JavaScript\"\n",
    "    },\n",
    "    {\n",
    "        \"firstName\": \"Maia\",\n",
    "        \"lastName\": \"S.\",\n",
    "        \"country\": \"Tahiti\",\n",
    "        \"continent\": \"Oceania\",\n",
    "        \"age\": 28,\n",
    "        \"language\": \"JavaScript\"\n",
    "    },\n",
    "    {\n",
    "        \"firstName\": \"Shufen\",\n",
    "        \"lastName\": \"L.\",\n",
    "        \"country\": \"Taiwan\",\n",
    "        \"continent\": \"Asia\",\n",
    "        \"age\": 35,\n",
    "        \"language\": \"HTML\"\n",
    "    },\n",
    "    {\n",
    "        \"firstName\": \"Sumayah\",\n",
    "        \"lastName\": \"M.\",\n",
    "        \"country\": \"Tajikistan\",\n",
    "        \"continent\": \"Asia\",\n",
    "        \"age\": 30,\n",
    "        \"language\": \"CSS\"\n",
    "    }\n",
    "]\n",
    "```\n",
    "\n",
    "Your function should return number `1`.\n",
    "\n",
    "If, there are no JavaScript developers from Europe then your function should return 0.\n",
    "\n",
    "Notes:\n",
    "\n",
    "- The format of the strings will always be Europe and JavaScript.\n",
    "- All data will always be valid and uniform as in the example above.\n"
   ],
   "metadata": {
    "collapsed": false
   }
  },
  {
   "cell_type": "code",
   "execution_count": 38,
   "outputs": [
    {
     "name": "stdout",
     "output_type": "stream",
     "text": [
      "1\n"
     ]
    }
   ],
   "source": [
    "t1_devs: list = [\n",
    "    {\n",
    "        \"firstName\": \"Noah\", \"lastName\": \"M.\", \"country\": \"Switzerland\", \"continent\": \"Europe\", \"age\": 19, \"language\": \"JavaScript\"\n",
    "    },\n",
    "    {\n",
    "        \"firstName\": \"Maia\", \"lastName\": \"S.\", \"country\": \"Tahiti\", \"continent\": \"Oceania\", \"age\": 28, \"language\": \"JavaScript\"\n",
    "    },\n",
    "    {\n",
    "        \"firstName\": \"Shufen\", \"lastName\": \"L.\", \"country\": \"Taiwan\", \"continent\": \"Asia\", \"age\": 35, \"language\": \"HTML\"\n",
    "    },\n",
    "    {\n",
    "        \"firstName\": \"Sumayah\", \"lastName\": \"M.\", \"country\": \"Tajikistan\", \"continent\": \"Asia\",  \"age\": 30, \"language\": \"CSS\"\n",
    "    }\n",
    "]\n",
    "\n",
    "\n",
    "def count_developers(lst) -> int:\n",
    "    \"\"\"\n",
    "    Description...\n",
    "\n",
    "    :param lst:\n",
    "    :return:\n",
    "    \"\"\"\n",
    "\n",
    "    continent: str = \"Europe\"\n",
    "    language: str = \"JavaScript\"\n",
    "\n",
    "    return len([item for item in lst if (item[\"continent\"] == continent and item[\"language\"] == language)])\n",
    "\n",
    "print(count_developers(t1_devs))"
   ],
   "metadata": {
    "collapsed": false,
    "ExecuteTime": {
     "start_time": "2023-04-07T14:16:08.088252Z",
     "end_time": "2023-04-07T14:16:08.187427Z"
    }
   }
  },
  {
   "cell_type": "markdown",
   "source": [
    "-------------"
   ],
   "metadata": {
    "collapsed": false
   }
  },
  {
   "cell_type": "markdown",
   "source": [
    "## Task 2 - Greet developers\n",
    "\n",
    "You will be given an array of objects (associative arrays in PHP, tables in COBOL) representing data about developers who have signed up to attend the next coding meetup that you are organising.\n",
    "\n",
    "Your task is to return an array where each object will have a new property 'greeting' with the following string value:\n",
    "\n",
    "```\n",
    "Hi < firstName here >, what do you like the most about < language here >?\n",
    "```\n",
    "\n",
    "For example, given the following input array:\n",
    "\n",
    "```\n",
    "list1 = [\n",
    "    {\n",
    "        \"firstName\": \"Sofia\",\n",
    "        \"lastName\": \"I.\",\n",
    "        \"country\": \"Argentina\",\n",
    "        \"continent\": \"Americas\",\n",
    "        \"age\": 35,\n",
    "        \"language\": \"Java\"\n",
    "    },\n",
    "    {\n",
    "        \"firstName\": \"Lukas\",\n",
    "        \"lastName\": \"X.\",\n",
    "        \"country\": \"Croatia\",\n",
    "        \"continent\": \"Europe\",\n",
    "        \"age\": 35,\n",
    "        \"language\": \"Python\"\n",
    "    },\n",
    "    {\n",
    "        \"firstName\": \"Madison\",\n",
    "        \"lastName\": \"U.\",\n",
    "        \"country\": \"United States\",\n",
    "        \"continent\": \"Americas\",\n",
    "        \"age\": 32,\n",
    "        \"language\": \"Ruby\"\n",
    "    }\n",
    "]\n",
    "```\n",
    "\n",
    "Your function should return the following array:\n",
    "\n",
    "```\n",
    "[\n",
    "    {\n",
    "        \"firstName\": \"Sofia\",\n",
    "        \"lastName\": \"I.\",\n",
    "        \"country\": \"Argentina\",\n",
    "        \"continent\": \"Americas\",\n",
    "        \"age\": 35,\n",
    "        \"language\": \"Java\",\n",
    "        \"greeting\": \"Hi Sofia, what do you like the most about Java?\"\n",
    "    },\n",
    "    {\n",
    "        \"firstName\": \"Lukas\",\n",
    "        \"lastName\": \"X.\",\n",
    "        \"country\": \"Croatia\",\n",
    "        \"continent\": \"Europe\",\n",
    "        \"age\": 35,\n",
    "        \"language\": \"Python\",\n",
    "        \"greeting\": \"Hi Lukas, what do you like the most about Python?\"\n",
    "    },\n",
    "    {\n",
    "        \"firstName\": \"Madison\",\n",
    "        \"lastName\": \"U.\",\n",
    "        \"country\": \"United States\",\n",
    "        \"continent\": \"Americas\",\n",
    "        \"age\": 32,\n",
    "        \"language\": \"Ruby\",\n",
    "        \"greeting\": \"Hi Madison, what do you like the most about Ruby?\"\n",
    "    }\n",
    "]\n",
    "```\n",
    "\n",
    "Notes:\n",
    "\n",
    "- The order of the properties in the objects does not matter (except in COBOL).\n",
    "- The input array will always be valid and formatted as in the example above.\n"
   ],
   "metadata": {
    "collapsed": false
   }
  },
  {
   "cell_type": "code",
   "execution_count": 39,
   "outputs": [
    {
     "name": "stdout",
     "output_type": "stream",
     "text": [
      "[{'firstName': 'Sofia', 'lastName': 'I.', 'country': 'Argentina', 'continent': 'Americas', 'age': 35, 'language': 'Java', 'greeting': 'Hi Sofia, what do you like the most about Java'}, {'firstName': 'Lukas', 'lastName': 'X.', 'country': 'Croatia', 'continent': 'Europe', 'age': 35, 'language': 'Python', 'greeting': 'Hi Lukas, what do you like the most about Python'}, {'firstName': 'Madison', 'lastName': 'U.', 'country': 'United States', 'continent': 'Americas', 'age': 32, 'language': 'Ruby', 'greeting': 'Hi Madison, what do you like the most about Ruby'}]\n"
     ]
    }
   ],
   "source": [
    "t2_devs = [\n",
    "    {\n",
    "        \"firstName\": \"Sofia\", \"lastName\": \"I.\", \"country\": \"Argentina\", \"continent\": \"Americas\", \"age\": 35, \"language\": \"Java\"\n",
    "    },\n",
    "    {\n",
    "        \"firstName\": \"Lukas\", \"lastName\": \"X.\", \"country\": \"Croatia\", \"continent\": \"Europe\", \"age\": 35, \"language\": \"Python\"\n",
    "    },\n",
    "    {\n",
    "        \"firstName\": \"Madison\", \"lastName\": \"U.\", \"country\": \"United States\", \"continent\": \"Americas\", \"age\": 32, \"language\": \"Ruby\"\n",
    "    }\n",
    "]\n",
    "\n",
    "def greet_developers(lst) -> list:\n",
    "    \"\"\"\n",
    "    Description...\n",
    "\n",
    "    :param lst:\n",
    "    :return:\n",
    "    \"\"\"\n",
    "\n",
    "    for item in lst:\n",
    "        item[\"greeting\"] = f\"Hi {item['firstName']}, what do you like the most about {item['language']}\"\n",
    "\n",
    "    return lst\n",
    "\n",
    "print(greet_developers(t2_devs))"
   ],
   "metadata": {
    "collapsed": false,
    "ExecuteTime": {
     "start_time": "2023-04-07T14:16:08.098167Z",
     "end_time": "2023-04-07T14:16:08.264697Z"
    }
   }
  },
  {
   "cell_type": "markdown",
   "source": [
    "-------------"
   ],
   "metadata": {
    "collapsed": false
   }
  },
  {
   "cell_type": "markdown",
   "source": [
    "## Task 3 - Is Ruby coming ?\n",
    "\n",
    "You will be given an array of objects (associative arrays in PHP) representing data about developers who have signed up to attend the next coding meetup that you are organising.\n",
    "\n",
    "Your task is to return:\n",
    "\n",
    "- `true` if at least one Ruby developer has signed up; or\n",
    "- `false` if there will be no Ruby developers.\n",
    "\n",
    "For example, given the following input array:\n",
    "\n",
    "```\n",
    "list1 = [\n",
    "    {\n",
    "        \"firstName\": \"Sofia\",\n",
    "        \"lastName\": \"I.\",\n",
    "        \"country\": \"Argentina\",\n",
    "        \"continent\": \"Americas\",\n",
    "        \"age\": 35,\n",
    "        \"language\": \"Java\"\n",
    "    },\n",
    "    {\n",
    "        \"firstName\": \"Lukas\",\n",
    "        \"lastName\": \"X.\",\n",
    "        \"country\": \"Croatia\",\n",
    "        \"continent\": \"Europe\",\n",
    "        \"age\": 35,\n",
    "        \"language\": \"Python\"\n",
    "    },\n",
    "    {\n",
    "        \"firstName\": \"Madison\",\n",
    "        \"lastName\": \"U.\",\n",
    "        \"country\": \"United States\",\n",
    "        \"continent\": \"Americas\",\n",
    "        \"age\": 32,\n",
    "        \"language\": \"Ruby\"\n",
    "    }\n",
    "]\n",
    "```\n",
    "\n",
    "Your function should return `true`.\n",
    "\n",
    "Notes:\n",
    "\n",
    "- The input array will always be valid and formatted as in the example above.\n"
   ],
   "metadata": {
    "collapsed": false
   }
  },
  {
   "cell_type": "code",
   "execution_count": 40,
   "outputs": [
    {
     "name": "stdout",
     "output_type": "stream",
     "text": [
      "True\n"
     ]
    }
   ],
   "source": [
    "t3_devs = [\n",
    "    {\n",
    "        \"firstName\": \"Sofia\", \"lastName\": \"I.\", \"country\": \"Argentina\", \"continent\": \"Americas\", \"age\": 35, \"language\": \"Java\"\n",
    "    },\n",
    "    {\n",
    "        \"firstName\": \"Lukas\", \"lastName\": \"X.\", \"country\": \"Croatia\", \"continent\": \"Europe\", \"age\": 35, \"language\": \"Python\"\n",
    "    },\n",
    "    {\n",
    "        \"firstName\": \"Madison\", \"lastName\": \"U.\", \"country\": \"United States\", \"continent\": \"Americas\", \"age\": 32, \"language\": \"Ruby\"\n",
    "    }\n",
    "]\n",
    "\n",
    "def is_ruby_coming(lst) -> bool:\n",
    "    \"\"\"\n",
    "    Description...\n",
    "\n",
    "    :param lst:\n",
    "    :return:\n",
    "    \"\"\"\n",
    "\n",
    "    return True if [item for item in lst if item[\"language\"] == \"Ruby\"] else False\n",
    "\n",
    "print(is_ruby_coming(t3_devs))"
   ],
   "metadata": {
    "collapsed": false,
    "ExecuteTime": {
     "start_time": "2023-04-07T14:16:08.108499Z",
     "end_time": "2023-04-07T14:16:08.265523Z"
    }
   }
  },
  {
   "cell_type": "markdown",
   "source": [
    "-------------"
   ],
   "metadata": {
    "collapsed": false
   }
  },
  {
   "cell_type": "markdown",
   "source": [
    "## Task 4 - Find the first Python developer\n",
    "\n",
    "You will be given an array of objects (associative arrays in PHP) representing data about developers who have signed up to attend the next coding meetup that you are organising. The list is ordered according to who signed up first.\n",
    "\n",
    "Your task is to return one of the following strings:\n",
    "\n",
    "- `< firstName here >, < country here >` of the first Python developer who has signed up; or\n",
    "- `There will be no Python developers` if no Python developer has signed up.\n",
    "\n",
    "For example, given the following input array:\n",
    "\n",
    "```\n",
    "list1 = [\n",
    "    {\n",
    "        \"first_name\": \"Mark\",\n",
    "        \"last_name\": \"G.\",\n",
    "        \"country\": \"Scotland\",\n",
    "        \"continent\": \"Europe\",\n",
    "        \"age\": 22,\n",
    "        \"language\": \"JavaScript\"\n",
    "    },\n",
    "    {\n",
    "        \"first_name\": \"Victoria\",\n",
    "        \"last_name\": \"T.\",\n",
    "        \"country\": \"Puerto Rico\",\n",
    "        \"continent\": \"Americas\",\n",
    "        \"age\": 30,\n",
    "        \"language\": \"Python\"\n",
    "    },\n",
    "    {\n",
    "        \"first_name\": \"Emma\",\n",
    "        \"last_name\": \"B.\",\n",
    "        \"country\": \"Norway\",\n",
    "        \"continent\": \"Europe\",\n",
    "        \"age\": 19,\n",
    "        \"language\": \"Clojure\"\n",
    "    }\n",
    "]\n",
    "```\n",
    "\n",
    "Your function should return `Victoria, Puerto Rico`.\n",
    "\n",
    "Notes:\n",
    "\n",
    "- The input array will always be valid and formatted as in the example above."
   ],
   "metadata": {
    "collapsed": false
   }
  },
  {
   "cell_type": "code",
   "execution_count": 41,
   "outputs": [
    {
     "name": "stdout",
     "output_type": "stream",
     "text": [
      "Victoria, Puerto Rico\n"
     ]
    }
   ],
   "source": [
    "t4_devs = [\n",
    "    {\n",
    "        \"first_name\": \"Mark\", \"last_name\": \"G.\", \"country\": \"Scotland\", \"continent\": \"Europe\", \"age\": 22, \"language\": \"JavaScript\"\n",
    "    },\n",
    "    {\n",
    "        \"first_name\": \"Victoria\", \"last_name\": \"T.\", \"country\": \"Puerto Rico\", \"continent\": \"Americas\", \"age\": 30, \"language\": \"Python\"\n",
    "    },\n",
    "    {\n",
    "        \"first_name\": \"Emma\", \"last_name\": \"B.\", \"country\": \"Norway\", \"continent\": \"Europe\", \"age\": 19, \"language\": \"Clojure\"\n",
    "    }\n",
    "]\n",
    "\n",
    "def get_first_python(users) -> str:\n",
    "    \"\"\"\n",
    "    Description...\n",
    "\n",
    "    :param users:\n",
    "    :return:\n",
    "    \"\"\"\n",
    "\n",
    "    for item in users:\n",
    "        if item[\"language\"] == \"Python\":\n",
    "            return f\"{item['first_name']}, {item['country']}\"\n",
    "    return f\"There will be no Python developers\"\n",
    "\n",
    "print(get_first_python(t4_devs))"
   ],
   "metadata": {
    "collapsed": false,
    "ExecuteTime": {
     "start_time": "2023-04-07T14:16:08.118535Z",
     "end_time": "2023-04-07T14:16:08.265828Z"
    }
   }
  },
  {
   "cell_type": "markdown",
   "source": [
    "-------------"
   ],
   "metadata": {
    "collapsed": false
   }
  },
  {
   "cell_type": "markdown",
   "source": [
    "## Task 5 - Prepare the count of languages\n",
    "\n",
    "You will be given an array of objects (associative arrays in PHP, table in COBOL) representing data about developers who have signed up to attend the next coding meetup that you are organising.\n",
    "\n",
    "Your task is to return an object (associative array in PHP, table in COBOL) which includes the count of each coding language represented at the meetup.\n",
    "\n",
    "For example, given the following input array:\n",
    "\n",
    "```\n",
    "list1 = [\n",
    "    {\n",
    "        \"firstName\": \"Noah\",\n",
    "        \"lastName\": \"M.\",\n",
    "        \"country\": \"Switzerland\",\n",
    "        \"continent\": \"Europe\",\n",
    "        \"age\": 19,\n",
    "        \"language\": \"C\"\n",
    "    },\n",
    "    {\n",
    "        \"firstName\": \"Anna\",\n",
    "        \"lastName\": \"R.\",\n",
    "        \"country\": \"Liechtenstein\",\n",
    "        \"continent\": \"Europe\",\n",
    "        \"age\": 52,\n",
    "        \"language\": \"JavaScript\"\n",
    "    },\n",
    "    {\n",
    "        \"firstName\": \"Ramon\",\n",
    "        \"lastName\": \"R.\",\n",
    "        \"country\": \"Paraguay\",\n",
    "        \"continent\": \"Americas\",\n",
    "        \"age\": 29,\n",
    "        \"language\": \"Ruby\"\n",
    "    },\n",
    "    {\n",
    "        \"firstName\": \"George\",\n",
    "        \"lastName\": \"B.\",\n",
    "        \"country\": \"England\",\n",
    "        \"continent\": \"Europe\",\n",
    "        \"age\": 81,\n",
    "        \"language\": \"C\"\n",
    "    }\n",
    "]\n",
    "```\n",
    "\n",
    "Your function should return the following object (associative array in PHP, table in COBOL):\n",
    "\n",
    "```\n",
    "{\n",
    "    \"C\": 2,\n",
    "    \"JavaScript\": 1,\n",
    "    \"Ruby\": 1\n",
    "}\n",
    "```\n",
    "\n",
    "Notes:\n",
    "\n",
    "- The order of the languages in the object does not matter.\n",
    "- The count value should be a valid number.\n",
    "- The input array will always be valid and formatted as in the example above."
   ],
   "metadata": {
    "collapsed": false
   }
  },
  {
   "cell_type": "code",
   "execution_count": 42,
   "outputs": [
    {
     "name": "stdout",
     "output_type": "stream",
     "text": [
      "{'C': 2, 'JavaScript': 1, 'Ruby': 1}\n"
     ]
    }
   ],
   "source": [
    "t5_devs = [\n",
    "    {\n",
    "        \"firstName\": \"Noah\", \"lastName\": \"M.\", \"country\": \"Switzerland\", \"continent\": \"Europe\", \"age\": 19, \"language\": \"C\"\n",
    "    },\n",
    "    {\n",
    "        \"firstName\": \"Anna\", \"lastName\": \"R.\", \"country\": \"Liechtenstein\", \"continent\": \"Europe\", \"age\": 52, \"language\": \"JavaScript\"\n",
    "    },\n",
    "    {\n",
    "        \"firstName\": \"Ramon\", \"lastName\": \"R.\", \"country\": \"Paraguay\", \"continent\": \"Americas\", \"age\": 29, \"language\": \"Ruby\"\n",
    "    },\n",
    "    {\n",
    "        \"firstName\": \"George\", \"lastName\": \"B.\", \"country\": \"England\", \"continent\": \"Europe\", \"age\": 81, \"language\": \"C\"\n",
    "    }\n",
    "]\n",
    "\n",
    "def count_languages(lst) -> dict:\n",
    "    \"\"\"\n",
    "    Description...\n",
    "\n",
    "    :param lst:\n",
    "    :return:\n",
    "    \"\"\"\n",
    "\n",
    "    res: dict = {}\n",
    "    for item in lst:\n",
    "        if item[\"language\"] not in res.keys():\n",
    "            res[item[\"language\"]] = 1\n",
    "        else:\n",
    "            res[item[\"language\"]] += 1\n",
    "\n",
    "    return res\n",
    "\n",
    "print(count_languages(t5_devs))"
   ],
   "metadata": {
    "collapsed": false,
    "ExecuteTime": {
     "start_time": "2023-04-07T14:16:08.146835Z",
     "end_time": "2023-04-07T14:16:08.266469Z"
    }
   }
  },
  {
   "cell_type": "markdown",
   "source": [
    "-------------"
   ],
   "metadata": {
    "collapsed": false
   }
  },
  {
   "cell_type": "markdown",
   "source": [
    "## Task 6 - Can they code in the same language ?\n",
    "\n",
    "You will be given an array of objects (associative arrays in PHP, tables in COBOL) representing data about developers who have signed up to attend the next coding meetup that you are organising.\n",
    "\n",
    "Your task is to return either:\n",
    "\n",
    "- `true` if all developers in the list code in the same language; or\n",
    "- `false` otherwise.\n",
    "\n",
    "For example, given the following input array:\n",
    "\n",
    "```\n",
    "list1 = [\n",
    "    {\n",
    "        \"firstName\": \"Daniel\",\n",
    "        \"lastName\": \"J.\",\n",
    "        \"country\": \"Aruba\",\n",
    "        \"continent\": \"Americas\",\n",
    "        \"age\": 42,\n",
    "        \"language\": \"JavaScript\"\n",
    "    },\n",
    "    {\n",
    "        \"firstName\": \"Kseniya\",\n",
    "        \"lastName\": \"T.\",\n",
    "        \"country\": \"Belarus\",\n",
    "        \"continent\": \"Europe\",\n",
    "        \"age\": 22,\n",
    "        \"language\": \"JavaScript\"\n",
    "    },\n",
    "    {\n",
    "        \"firstName\": \"Hanna\",\n",
    "        \"lastName\": \"L.\"\n",
    "        \"country\": \"Hungary\",\n",
    "        \"continent\": \"Europe\",\n",
    "        \"age\": 65,\n",
    "        \"language\": \"JavaScript\"\n",
    "    }\n",
    "]\n",
    "```\n",
    "\n",
    "Your function should return true.\n",
    "\n",
    "Notes:\n",
    "\n",
    "- The strings representing a given language will always be formatted in the same way (e.g. 'JavaScript' will always be formatted will upper-case 'J' and 'S'\n",
    "- The input array will always be valid and formatted as in the example above."
   ],
   "metadata": {
    "collapsed": false
   }
  },
  {
   "cell_type": "code",
   "execution_count": 44,
   "outputs": [],
   "source": [
    "def is_same_language(lst) -> None:\n",
    "    return None"
   ],
   "metadata": {
    "collapsed": false,
    "ExecuteTime": {
     "start_time": "2023-04-07T14:16:19.307668Z",
     "end_time": "2023-04-07T14:16:19.315719Z"
    }
   }
  },
  {
   "cell_type": "markdown",
   "source": [
    "-------------"
   ],
   "metadata": {
    "collapsed": false
   }
  },
  {
   "cell_type": "markdown",
   "source": [
    "## More tasks to add..."
   ],
   "metadata": {
    "collapsed": false
   }
  },
  {
   "cell_type": "code",
   "execution_count": 44,
   "outputs": [],
   "source": [],
   "metadata": {
    "collapsed": false,
    "ExecuteTime": {
     "start_time": "2023-04-07T14:16:20.758017Z",
     "end_time": "2023-04-07T14:16:20.768546Z"
    }
   }
  },
  {
   "cell_type": "markdown",
   "source": [
    "-------------"
   ],
   "metadata": {
    "collapsed": false
   }
  },
  {
   "cell_type": "code",
   "execution_count": null,
   "outputs": [],
   "source": [],
   "metadata": {
    "collapsed": false
   }
  }
 ],
 "metadata": {
  "kernelspec": {
   "display_name": "Python 3",
   "language": "python",
   "name": "python3"
  },
  "language_info": {
   "codemirror_mode": {
    "name": "ipython",
    "version": 2
   },
   "file_extension": ".py",
   "mimetype": "text/x-python",
   "name": "python",
   "nbconvert_exporter": "python",
   "pygments_lexer": "ipython2",
   "version": "2.7.6"
  }
 },
 "nbformat": 4,
 "nbformat_minor": 0
}
